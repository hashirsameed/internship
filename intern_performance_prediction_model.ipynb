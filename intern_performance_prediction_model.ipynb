{
 "cells": [
  {
   "cell_type": "markdown",
   "id": "64fe97d1-e2f8-4127-9db9-ccfe4e2ee19c",
   "metadata": {},
   "source": [
    "# 📊 Intern Performance Prediction using Machine Learning\n",
    "\n",
    "This project uses **Logistic Regression** and **Random Forest Classifier** to predict intern performance based on behavioral and productivity metrics such as attendance rate, task completion rate, feedback scores, and more."
   ]
  },
  {
   "cell_type": "markdown",
   "id": "18be9d70-9ade-48c4-b830-27f3da9541d8",
   "metadata": {},
   "source": [
    "## 🧹 Step 1: Load & Preprocess Dataset\n",
    "\n",
    "We begin by importing necessary libraries and loading the dataset."
   ]
  },
  {
   "cell_type": "code",
   "execution_count": 1,
   "id": "ae2ec90d-7fdf-4ba6-992b-5ac646fc01df",
   "metadata": {},
   "outputs": [],
   "source": [
    "import pandas as pd\n",
    "from sklearn.model_selection import train_test_split\n",
    "from sklearn.preprocessing import LabelEncoder, StandardScaler\n",
    "\n",
    "# Load data\n",
    "df = pd.read_csv(\"intern_performance_dataset.csv\")"
   ]
  },
  {
   "cell_type": "markdown",
   "id": "de0c0b14-3d67-4623-a698-2aa6f9894168",
   "metadata": {},
   "source": [
    "## 🧠 Step 2: Encode Categorical Columns\n",
    "\n",
    "We use Label Encoding to convert categorical features like `department` and `interaction_level` into numeric format so that machine learning algorithms can process them."
   ]
  },
  {
   "cell_type": "code",
   "execution_count": 2,
   "id": "604e84f9-ceab-4681-bfda-2d3a89866ead",
   "metadata": {},
   "outputs": [],
   "source": [
    "# Encode department and interaction level\n",
    "le = LabelEncoder()\n",
    "df['department_encoded'] = le.fit_transform(df['department'])\n",
    "df['interaction_level_encoded'] = le.fit_transform(df['interaction_level'])"
   ]
  },
  {
   "cell_type": "markdown",
   "id": "5582f060-7e68-4446-97c6-7aab1ee45ccf",
   "metadata": {},
   "source": [
    "## 🧮 Step 3: Select Features and Target\n",
    "\n",
    "We define the features that will be used to train the model and select the target variable `performance_label`, which we want to predict.\n"
   ]
  },
  {
   "cell_type": "code",
   "execution_count": 3,
   "id": "6845be36-7813-4942-a433-3e96f4da5d59",
   "metadata": {},
   "outputs": [],
   "source": [
    "features = [\n",
    "    'attendance_rate',\n",
    "    'task_completion_rate',\n",
    "    'avg_feedback_score',\n",
    "    'hours_per_week',\n",
    "    'final_assessment_score',\n",
    "    'department_encoded',\n",
    "    'interaction_level_encoded'\n",
    "]\n",
    "target = 'performance_label'\n",
    "\n",
    "X = df[features]\n",
    "y = df[target]"
   ]
  },
  {
   "cell_type": "markdown",
   "id": "bc754df0-fd70-49ea-9810-7c85146041fd",
   "metadata": {},
   "source": [
    "## 📏 Step 4: Scale the Features\n",
    "\n",
    "To normalize the data, we use `StandardScaler` so that each feature contributes equally to model performance.\n"
   ]
  },
  {
   "cell_type": "code",
   "execution_count": 4,
   "id": "a7bfc70f-33f3-498e-910d-865f54e9b565",
   "metadata": {},
   "outputs": [],
   "source": [
    "scaler = StandardScaler()\n",
    "X_scaled = scaler.fit_transform(X)"
   ]
  },
  {
   "cell_type": "markdown",
   "id": "909eda44-b36a-40a6-a793-578358ae14e1",
   "metadata": {},
   "source": [
    "## 🧪 Step 5: Train/Test Split\n",
    "\n",
    "We split our dataset into training and testing subsets using an 80/20 ratio to evaluate model performance fairly.\n"
   ]
  },
  {
   "cell_type": "code",
   "execution_count": 5,
   "id": "3556f97f-d0ba-4ed4-876b-877f21ece610",
   "metadata": {},
   "outputs": [
    {
     "name": "stdout",
     "output_type": "stream",
     "text": [
      "✅ Data ready for training\n"
     ]
    }
   ],
   "source": [
    "X_train, X_test, y_train, y_test = train_test_split(X_scaled, y, test_size=0.2, random_state=42)\n",
    "print(\"✅ Data ready for training\")"
   ]
  },
  {
   "cell_type": "markdown",
   "id": "c4c7c09f-7dd4-4b71-a0ce-7b52108e06fe",
   "metadata": {},
   "source": [
    "## 🤖 Step 6: Train Models (Logistic Regression & Random Forest)\n",
    "\n",
    "We train two popular machine learning models:\n",
    "- Logistic Regression\n",
    "- Random Forest Classifier"
   ]
  },
  {
   "cell_type": "code",
   "execution_count": 6,
   "id": "46548566-2703-4a8f-94a9-d210618aa673",
   "metadata": {},
   "outputs": [],
   "source": [
    "from sklearn.linear_model import LogisticRegression\n",
    "from sklearn.ensemble import RandomForestClassifier\n",
    "\n",
    "# Train Logistic Regression\n",
    "lr = LogisticRegression()\n",
    "lr.fit(X_train, y_train)\n",
    "y_pred_lr = lr.predict(X_test)\n",
    "\n",
    "# Train Random Forest\n",
    "rf = RandomForestClassifier()\n",
    "rf.fit(X_train, y_train)\n",
    "y_pred_rf = rf.predict(X_test)"
   ]
  },
  {
   "cell_type": "markdown",
   "id": "b6a697a2-bddf-4265-a7c4-e9ed652d3e71",
   "metadata": {},
   "source": [
    "## 📊 Step 7: Model Evaluation\n",
    "\n",
    "We evaluate both models using:\n",
    "- Accuracy\n",
    "- Precision\n",
    "- Recall\n",
    "- F1-score\n",
    "\n",
    "The `classification_report` shows detailed metrics for each model's performance on the test set.\n"
   ]
  },
  {
   "cell_type": "code",
   "execution_count": 7,
   "id": "b3f34b2b-6b04-447a-88c0-4293b13f623a",
   "metadata": {},
   "outputs": [
    {
     "name": "stdout",
     "output_type": "stream",
     "text": [
      "📊 Logistic Regression Report:\n",
      "              precision    recall  f1-score   support\n",
      "\n",
      "           0       0.93      0.97      0.95      1727\n",
      "           1       0.71      0.51      0.60       273\n",
      "\n",
      "    accuracy                           0.91      2000\n",
      "   macro avg       0.82      0.74      0.77      2000\n",
      "weighted avg       0.90      0.91      0.90      2000\n",
      "\n",
      "\n",
      "📊 Random Forest Report:\n",
      "              precision    recall  f1-score   support\n",
      "\n",
      "           0       1.00      1.00      1.00      1727\n",
      "           1       1.00      1.00      1.00       273\n",
      "\n",
      "    accuracy                           1.00      2000\n",
      "   macro avg       1.00      1.00      1.00      2000\n",
      "weighted avg       1.00      1.00      1.00      2000\n",
      "\n"
     ]
    }
   ],
   "source": [
    "from sklearn.metrics import classification_report\n",
    "\n",
    "print(\"📊 Logistic Regression Report:\")\n",
    "print(classification_report(y_test, y_pred_lr))\n",
    "\n",
    "print(\"\\n📊 Random Forest Report:\")\n",
    "print(classification_report(y_test, y_pred_rf))"
   ]
  },
  {
   "cell_type": "markdown",
   "id": "e2409538-6a24-4a1e-92ca-87f3389a8994",
   "metadata": {},
   "source": [
    "## 📉 Step 8: Confusion Matrix\n",
    "\n",
    "We visualize the confusion matrix for the **Random Forest Classifier** to better understand the model's classification performance.\n"
   ]
  },
  {
   "cell_type": "code",
   "execution_count": 8,
   "id": "3be20726-41d8-4adb-a97c-732ff6c2392d",
   "metadata": {},
   "outputs": [
    {
     "data": {
      "image/png": "[encoded data removed]",
      "text/plain": [
       "<Figure size 640x480 with 2 Axes>"
      ]
     },
     "metadata": {},
     "output_type": "display_data"
    }
   ],
   "source": [
    "import matplotlib.pyplot as plt\n",
    "from sklearn.metrics import ConfusionMatrixDisplay\n",
    "\n",
    "ConfusionMatrixDisplay.from_estimator(rf, X_test, y_test)\n",
    "plt.title(\"Confusion Matrix - Random Forest\")\n",
    "plt.show()"
   ]
  },
  {
   "cell_type": "markdown",
   "id": "42cf38c3-723b-4fdb-aa5c-a8a73659a94e",
   "metadata": {},
   "source": [
    "## 📌 Step 9: Feature Importance (Random Forest)\n",
    "\n",
    "We use the feature importances generated by the Random Forest model to identify which variables contribute most to predicting intern performance. This helps mentors focus on the most influential performance factors.\n"
   ]
  },
  {
   "cell_type": "code",
   "execution_count": 9,
   "id": "c5b74a7a-b946-4d07-be0e-95b34d8b653c",
   "metadata": {},
   "outputs": [
    {
     "name": "stderr",
     "output_type": "stream",
     "text": [
      "C:\\Users\\Other User\\anaconda3\\Lib\\site-packages\\seaborn\\_oldcore.py:1765: FutureWarning: unique with argument that is not not a Series, Index, ExtensionArray, or np.ndarray is deprecated and will raise in a future version.\n",
      "  order = pd.unique(vector)\n"
     ]
    },
    {
     "data": {
      "image/png": "[encoded data removed]",
      "text/plain": [
       "<Figure size 640x480 with 1 Axes>"
      ]
     },
     "metadata": {},
     "output_type": "display_data"
    }
   ],
   "source": [
    "import seaborn as sns\n",
    "\n",
    "importances = rf.feature_importances_\n",
    "feature_names = features\n",
    "\n",
    "sns.barplot(x=importances, y=feature_names)\n",
    "plt.title(\"Feature Importance\")\n",
    "plt.xlabel(\"Importance\")\n",
    "plt.ylabel(\"Features\")\n",
    "plt.show()"
   ]
  },
  {
   "cell_type": "markdown",
   "id": "b52c13af-8806-4355-b3a4-746d16e8cb1a",
   "metadata": {},
   "source": [
    "✅ **End of Notebook**"
   ]
  },
  {
   "cell_type": "code",
   "execution_count": 1,
   "id": "cb1f15e2-edad-463e-9c02-6111c3b2a43b",
   "metadata": {},
   "outputs": [
    {
     "name": "stdout",
     "output_type": "stream",
     "text": [
      "✅ Data ready for training\n"
     ]
    }
   ],
   "source": [
    "import pandas as pd\n",
    "from sklearn.model_selection import train_test_split\n",
    "from sklearn.preprocessing import LabelEncoder, StandardScaler\n",
    "\n",
    "# Load data\n",
    "df = pd.read_csv(\"intern_performance_dataset.csv\")\n",
    "\n",
    "# Encode categorical column\n",
    "le = LabelEncoder()\n",
    "df['department_encoded'] = le.fit_transform(df['department'])\n",
    "df['interaction_level_encoded'] = le.fit_transform(df['interaction_level'])\n",
    "\n",
    "# Select features and target\n",
    "features = [\n",
    "    'attendance_rate',\n",
    "    'task_completion_rate',\n",
    "    'avg_feedback_score',\n",
    "    'hours_per_week',\n",
    "    'final_assessment_score',\n",
    "    'department_encoded',\n",
    "    'interaction_level_encoded'\n",
    "]\n",
    "target = 'performance_label'\n",
    "\n",
    "X = df[features]\n",
    "y = df[target]\n",
    "\n",
    "# Scale features\n",
    "scaler = StandardScaler()\n",
    "X_scaled = scaler.fit_transform(X)\n",
    "\n",
    "# Split dataset\n",
    "X_train, X_test, y_train, y_test = train_test_split(X_scaled, y, test_size=0.2, random_state=42)\n",
    "\n",
    "print(\"✅ Data ready for training\")\n"
   ]
  },
  {
   "cell_type": "code",
   "execution_count": 2,
   "id": "62e23d0e-fa94-4425-8ea7-775f8f1a11cf",
   "metadata": {},
   "outputs": [
    {
     "name": "stdout",
     "output_type": "stream",
     "text": [
      "📊 Logistic Regression Report:\n",
      "              precision    recall  f1-score   support\n",
      "\n",
      "           0       0.93      0.97      0.95      1727\n",
      "           1       0.71      0.51      0.60       273\n",
      "\n",
      "    accuracy                           0.91      2000\n",
      "   macro avg       0.82      0.74      0.77      2000\n",
      "weighted avg       0.90      0.91      0.90      2000\n",
      "\n",
      "\n",
      "📊 Random Forest Report:\n",
      "              precision    recall  f1-score   support\n",
      "\n",
      "           0       1.00      1.00      1.00      1727\n",
      "           1       1.00      1.00      1.00       273\n",
      "\n",
      "    accuracy                           1.00      2000\n",
      "   macro avg       1.00      1.00      1.00      2000\n",
      "weighted avg       1.00      1.00      1.00      2000\n",
      "\n"
     ]
    }
   ],
   "source": [
    "from sklearn.linear_model import LogisticRegression\n",
    "from sklearn.ensemble import RandomForestClassifier\n",
    "from sklearn.metrics import classification_report, confusion_matrix, accuracy_score\n",
    "\n",
    "# Train Logistic Regression\n",
    "lr = LogisticRegression()\n",
    "lr.fit(X_train, y_train)\n",
    "y_pred_lr = lr.predict(X_test)\n",
    "\n",
    "# Train Random Forest\n",
    "rf = RandomForestClassifier()\n",
    "rf.fit(X_train, y_train)\n",
    "y_pred_rf = rf.predict(X_test)\n",
    "\n",
    "# Evaluation\n",
    "print(\"📊 Logistic Regression Report:\")\n",
    "print(classification_report(y_test, y_pred_lr))\n",
    "\n",
    "print(\"\\n📊 Random Forest Report:\")\n",
    "print(classification_report(y_test, y_pred_rf))\n"
   ]
  },
  {
   "cell_type": "code",
   "execution_count": 4,
   "id": "d81c20eb-9fc8-4ed5-8d54-f56717ff92d6",
   "metadata": {},
   "outputs": [
    {
     "data": {
      "text/plain": [
       "['scaler.pkl']"
      ]
     },
     "execution_count": 4,
     "metadata": {},
     "output_type": "execute_result"
    }
   ],
   "source": [
    "import joblib\n",
    "\n",
    "# Save model and scaler\n",
    "joblib.dump(rf, \"rf_model.pkl\")\n",
    "joblib.dump(scaler, \"scaler.pkl\")"
   ]
  },
  {
   "cell_type": "code",
   "execution_count": null,
   "id": "f0d5f049-169d-45fd-a7ed-fd623c6de6ac",
   "metadata": {},
   "outputs": [],
   "source": []
  }
 ],
 "metadata": {
  "kernelspec": {
   "display_name": "Python 3 (ipykernel)",
   "language": "python",
   "name": "python3"
  },
  "language_info": {
   "codemirror_mode": {
    "name": "ipython",
    "version": 3
   },
   "file_extension": ".py",
   "mimetype": "text/x-python",
   "name": "python",
   "nbconvert_exporter": "python",
   "pygments_lexer": "ipython3",
   "version": "3.11.7"
  }
 },
 "nbformat": 4,
 "nbformat_minor": 5
}
